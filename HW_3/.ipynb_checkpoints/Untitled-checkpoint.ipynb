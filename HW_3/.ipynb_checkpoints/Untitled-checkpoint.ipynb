{
 "cells": [
  {
   "cell_type": "code",
   "execution_count": 1,
   "metadata": {},
   "outputs": [],
   "source": [
    "import matplotlib.pyplot as plt\n",
    "%matplotlib inline\n",
    "import numpy as np"
   ]
  },
  {
   "cell_type": "code",
   "execution_count": 4,
   "metadata": {},
   "outputs": [
    {
     "data": {
      "image/png": "[encoded data removed]",
      "text/plain": [
       "<Figure size 432x288 with 1 Axes>"
      ]
     },
     "metadata": {},
     "output_type": "display_data"
    }
   ],
   "source": [
    "scale = 1.0\n",
    "\n",
    "naive = []\n",
    "bottom = []\n",
    "closed = []\n",
    "matrix = []\n",
    "M = list(range(1, 35, 1))\n",
    "N = M[:int(len(M)*scale)]\n",
    "\n",
    "with open('/home/umbrella/aid_hw/a3/diff_file.txt') as file:\n",
    "    for i in file.readlines():\n",
    "        n, b, c, m = i.split(',')\n",
    "        naive.append(int(n))\n",
    "        bottom.append(int(b))\n",
    "        closed.append(int(c))\n",
    "        matrix.append(int(m))\n",
    "        \n",
    "plt.figure()\n",
    "ax = plt.subplot(111)\n",
    "\n",
    "ax.set_yscale('log')\n",
    "\n",
    "ax.plot(N, naive[:int(len(bottom)*scale)], 'm', label='Naive recursion')\n",
    "ax.plot(N, bottom[:int(len(bottom)*scale)], 'y', label='Bottom up')\n",
    "ax.plot(N, closed[:int(len(closed)*scale)], 'k', label='Closed form')\n",
    "ax.plot(N, matrix[:int(len(matrix)*scale)], 'r', label='Matrix method')\n",
    "\n",
    "plt.legend()\n",
    "plt.title('Different fibonacci graph observation')\n",
    "plt.savefig(\"theCrown.pdf\")"
   ]
  },
  {
   "cell_type": "code",
   "execution_count": 6,
   "metadata": {},
   "outputs": [
    {
     "data": {
      "text/plain": [
       "['0.0000340000',\n",
       " '0.0000020000',\n",
       " '0.0000030000',\n",
       " '0.0000460000',\n",
       " '0.0000030000',\n",
       " '0.0000030000',\n",
       " '0.0000030000',\n",
       " '0.0000030000',\n",
       " '0.0000030000',\n",
       " '0.0000030000',\n",
       " '0.0000030000',\n",
       " '0.0000020000',\n",
       " '0.0000030000',\n",
       " '0.0000030000',\n",
       " '0.0000030000',\n",
       " '0.0000030000',\n",
       " '0.0000030000',\n",
       " '0.0000020000',\n",
       " '0.0000030000',\n",
       " '0.0000030000',\n",
       " '0.0000030000',\n",
       " '0.0000020000',\n",
       " '0.0000020000',\n",
       " '0.0000030000',\n",
       " '0.0000070000',\n",
       " '0.0000080000',\n",
       " '0.0000020000',\n",
       " '0.0000020000',\n",
       " '0.0000010000',\n",
       " '0.0000130000',\n",
       " '0.0000080000',\n",
       " '0.0000030000',\n",
       " '0.0000100000',\n",
       " '0.0000070000',\n",
       " '0.0000080000',\n",
       " '0.0000030000',\n",
       " '0.0000090000',\n",
       " '0.0000100000',\n",
       " '0.0000030000',\n",
       " '0.0000130000',\n",
       " '0.0000040000',\n",
       " '0.0000020000',\n",
       " '0.0000030000',\n",
       " '0.0000030000',\n",
       " '0.0000050000',\n",
       " '0.0000040000',\n",
       " '0.0000130000',\n",
       " '0.0000150000',\n",
       " '0.0000070000',\n",
       " '0.0000100000']"
      ]
     },
     "execution_count": 6,
     "metadata": {},
     "output_type": "execute_result"
    }
   ],
   "source": [
    "N = []\n",
    "naive = []\n",
    "bottom = []\n",
    "closed = []\n",
    "matrix = []\n",
    "\n",
    "with open('/home/umbrella/Downloads/data.txt') as file:\n",
    "    for i in file.readlines():\n",
    "        n, nav, b, c, m = i.split()\n",
    "        N.append(n)\n",
    "        naive.append(nav)\n",
    "        bottom.append(b)\n",
    "        closed.append(c)\n",
    "        matrix.append(m)\n",
    "        \n",
    "plt.figure()\n",
    "ax = plt.subplot(111)\n",
    "\n",
    "ax.set_yscale('log')\n",
    "\n",
    "ax.plot(N, naive[:int(len(bottom)*scale)], 'm', label='Naive recursion')\n",
    "ax.plot(N, bottom[:int(len(bottom)*scale)], 'y', label='Bottom up')\n",
    "ax.plot(N, closed[:int(len(closed)*scale)], 'k', label='Closed form')\n",
    "ax.plot(N, matrix[:int(len(matrix)*scale)], 'r', label='Matrix method')\n",
    "\n",
    "plt.legend()\n",
    "plt.title('Different fibonacci graph observation')\n",
    "plt.savefig(\"theCrown.pdf\")"
   ]
  }
 ],
 "metadata": {
  "kernelspec": {
   "display_name": "Python 3",
   "language": "python",
   "name": "python3"
  },
  "language_info": {
   "codemirror_mode": {
    "name": "ipython",
    "version": 3
   },
   "file_extension": ".py",
   "mimetype": "text/x-python",
   "name": "python",
   "nbconvert_exporter": "python",
   "pygments_lexer": "ipython3",
   "version": "3.6.5"
  }
 },
 "nbformat": 4,
 "nbformat_minor": 2
}
