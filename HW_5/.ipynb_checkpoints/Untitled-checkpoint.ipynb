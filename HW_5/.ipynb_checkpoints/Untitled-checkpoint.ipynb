{
 "cells": [
  {
   "cell_type": "code",
   "execution_count": 6,
   "metadata": {},
   "outputs": [],
   "source": [
    "import matplotlib.pyplot as plt\n",
    "import numpy as np\n",
    "%matplotlib inline\n",
    "import quick_sort\n",
    "from time import time\n",
    "import random"
   ]
  },
  {
   "cell_type": "code",
   "execution_count": 8,
   "metadata": {},
   "outputs": [],
   "source": [
    "arr = [1, 1, 4, 3, 2, 7, 6, 5]                                                                                                            \n",
    "sort1 = quick_sort.Quicksort(arr)                                                                                                                    \n",
    "sort2 = quick_sort.Quicksort(arr, partition='HOARE')                                                                                                 \n",
    "sort3 = quick_sort.Quicksort(arr, mid_pivot=True)                                                                                                    \n",
    "sort4 = quick_sort.Quicksort(arr, mid_pivot=True, partition='HOARE')                                                                                 \n",
    "\n",
    "lomuto = []\n",
    "hoare= []\n",
    "lomuto_v = []\n",
    "hoare_v = []\n",
    "\n",
    "X = []\n",
    "\n",
    "for i in range(int(10e4)):\n",
    "    arr = [random.randrange(100000) for _ in range(1000)] \n",
    "    \n",
    "    start = time()\n",
    "    sort1.quick_sort()\n",
    "    \n",
    "    check_pt1 = time()\n",
    "    sort2.quick_sort()\n",
    "    \n",
    "    check_pt2 = time()\n",
    "    sort3.quick_sort()\n",
    "\n",
    "    check_pt3 = time()\n",
    "    sort4.quick_sort()\n",
    "    \n",
    "    end = time()\n",
    "\n",
    "    X.append(1000)\n",
    "    lomuto.append(check_pt1-start)\n",
    "    hoare.append(check_pt2-check_pt1)\n",
    "    lomuto_v.append(check_pt3-check_pt2)\n",
    "    hoare_v.append(end-check_pt3)"
   ]
  },
  {
   "cell_type": "code",
   "execution_count": 3,
   "metadata": {},
   "outputs": [
    {
     "data": {
      "text/plain": [
       "100000.0"
      ]
     },
     "execution_count": 3,
     "metadata": {},
     "output_type": "execute_result"
    }
   ],
   "source": [
    "plt.figure()\n",
    "ax = plt.subplot(111)\n",
    "\n",
    "ax.plot(X, lomuto, 'm', label='Lomuto partition normal')\n",
    "ax.plot(X, hoare, 'y', label='Hoare partition normal')\n",
    "ax.plot(X, lomuto_v, 'k', label='Lomuto partition with median pivot')\n",
    "ax.plot(X, hoare_v, 'r', label='Hoare partition with median pivot')\n",
    "\n",
    "plt.legend()\n",
    "plt.title('Quicksort comparision of different partitions')\n",
    "plt.xlabel(\"N\")\n",
    "plt.ylabel(\"Time taken\")\n",
    "plt.show()\n",
    "# plt.savefig(\"Small.pdf\")"
   ]
  }
 ],
 "metadata": {
  "kernelspec": {
   "display_name": "Python 3",
   "language": "python",
   "name": "python3"
  },
  "language_info": {
   "codemirror_mode": {
    "name": "ipython",
    "version": 3
   },
   "file_extension": ".py",
   "mimetype": "text/x-python",
   "name": "python",
   "nbconvert_exporter": "python",
   "pygments_lexer": "ipython3",
   "version": "3.6.5"
  }
 },
 "nbformat": 4,
 "nbformat_minor": 2
}
