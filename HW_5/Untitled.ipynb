{
 "cells": [
  {
   "cell_type": "code",
   "execution_count": 96,
   "metadata": {},
   "outputs": [],
   "source": [
    "import matplotlib.pyplot as plt\n",
    "import numpy as np\n",
    "%matplotlib inline\n",
    "import quick_sort\n",
    "from time import time\n",
    "import random"
   ]
  },
  {
   "cell_type": "code",
   "execution_count": 97,
   "metadata": {},
   "outputs": [],
   "source": [
    "arr = [1, 1, 4, 3, 2, 7, 6, 5]                                                                                                            \n",
    "sort1 = quick_sort.Quicksort(arr)                                                                                                                    \n",
    "sort2 = quick_sort.Quicksort(arr, partition='HOARE')                                                                                                 \n",
    "sort3 = quick_sort.Quicksort(arr, mid_pivot=True)                                                                                                    \n",
    "sort4 = quick_sort.Quicksort(arr, mid_pivot=True, partition='HOARE')                                                                                 \n",
    "\n",
    "lomuto = []\n",
    "hoare= []\n",
    "lomuto_v = []\n",
    "hoare_v = []\n",
    "\n",
    "X = []\n",
    "\n",
    "for i in range(int(10e4)):\n",
    "    arr = [random.randrange(100000) for _ in range(1000)] \n",
    "    \n",
    "    start = time()\n",
    "    sort1.quick_sort()\n",
    "    \n",
    "    check_pt1 = time()\n",
    "    sort2.quick_sort()\n",
    "    \n",
    "    check_pt2 = time()\n",
    "    sort3.quick_sort()\n",
    "\n",
    "    check_pt3 = time()\n",
    "    sort4.quick_sort()\n",
    "    \n",
    "    end = time()\n",
    "\n",
    "    X.append(1000)\n",
    "    lomuto.append(check_pt1-start)\n",
    "    hoare.append(check_pt2-check_pt1)\n",
    "    lomuto_v.append(check_pt3-check_pt2)\n",
    "    hoare_v.append(end-check_pt3)"
   ]
  },
  {
   "cell_type": "code",
   "execution_count": 99,
   "metadata": {},
   "outputs": [],
   "source": [
    "def avg(x):\n",
    "    return sum(x)/len(x)\n"
   ]
  },
  {
   "cell_type": "code",
   "execution_count": 100,
   "metadata": {},
   "outputs": [
    {
     "name": "stdout",
     "output_type": "stream",
     "text": [
      "1.576164960861206e-05 1.408672332763672e-05 1.4030117988586426e-05 1.3973305225372314e-05\n"
     ]
    }
   ],
   "source": [
    "def avg(x):\n",
    "    return sum(x)/len(x)\n",
    "\n",
    "print(\n",
    "avg(lomuto), avg(hoare),\n",
    "avg(lomuto_v), avg(hoare_v)\n",
    ")"
   ]
  },
  {
   "cell_type": "code",
   "execution_count": 101,
   "metadata": {},
   "outputs": [
    {
     "data": {
      "text/plain": [
       "1.576164960861206e-05"
      ]
     },
     "execution_count": 101,
     "metadata": {},
     "output_type": "execute_result"
    }
   ],
   "source": [
    "1.576164960861206e-05"
   ]
  }
 ],
 "metadata": {
  "kernelspec": {
   "display_name": "Python 3",
   "language": "python",
   "name": "python3"
  },
  "language_info": {
   "codemirror_mode": {
    "name": "ipython",
    "version": 3
   },
   "file_extension": ".py",
   "mimetype": "text/x-python",
   "name": "python",
   "nbconvert_exporter": "python",
   "pygments_lexer": "ipython3",
   "version": "3.6.5"
  }
 },
 "nbformat": 4,
 "nbformat_minor": 2
}
